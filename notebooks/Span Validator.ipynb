{
 "cells": [
  {
   "cell_type": "code",
   "execution_count": 1,
   "metadata": {},
   "outputs": [],
   "source": [
    "import simplejson as json\n",
    "import jsonschema"
   ]
  },
  {
   "cell_type": "code",
   "execution_count": 14,
   "metadata": {},
   "outputs": [],
   "source": [
    "with open('span_schema.json', 'r') as f:\n",
    "    schema_data = f.read()\n",
    "schema = json.loads(schema_data)"
   ]
  },
  {
   "cell_type": "code",
   "execution_count": 18,
   "metadata": {},
   "outputs": [
    {
     "name": "stdout",
     "output_type": "stream",
     "text": [
      "\n",
      "found 0 errors in 190202 spans\n",
      "\n",
      "parallel took 59.19811391830444 time\n"
     ]
    }
   ],
   "source": [
    "from joblib import Parallel, delayed\n",
    "import multiprocessing\n",
    "import time\n",
    "\n",
    "trace_file_path = '/mnt/B6C8BAECC8BAAA4F/André/UC/Tese/MScThesis/Graphy/data/28_06.json'\n",
    "\n",
    "with open(trace_file_path, 'r') as file:\n",
    "    data = file.read()\n",
    "\n",
    "spans = json.loads(data)\n",
    "\n",
    "start_time = time.time()\n",
    "\n",
    "errors = range(len(spans))\n",
    "def validate_span(span):\n",
    "    try:\n",
    "        jsonschema.validate(instance=span, schema=schema)\n",
    "    except Exception as ex:\n",
    "        print(ex)\n",
    "        return 1\n",
    "    return 0\n",
    "\n",
    "num_cores = multiprocessing.cpu_count()\n",
    "errors = Parallel(n_jobs=num_cores)(delayed(validate_span)(span) for span in spans)\n",
    "\n",
    "# errors = list()\n",
    "# for span in spans[:100]:\n",
    "#     errors.append(validate_span(span))\n",
    "\n",
    "print('\\nfound {} errors in {} spans'.format(sum(errors), len(spans)))\n",
    "print('\\nparallel took {} time'.format(time.time() - start_time))"
   ]
  }
 ],
 "metadata": {
  "kernelspec": {
   "display_name": "Python 3",
   "language": "python",
   "name": "python3"
  },
  "language_info": {
   "codemirror_mode": {
    "name": "ipython",
    "version": 3
   },
   "file_extension": ".py",
   "mimetype": "text/x-python",
   "name": "python",
   "nbconvert_exporter": "python",
   "pygments_lexer": "ipython3",
   "version": "3.6.7"
  }
 },
 "nbformat": 4,
 "nbformat_minor": 2
}
