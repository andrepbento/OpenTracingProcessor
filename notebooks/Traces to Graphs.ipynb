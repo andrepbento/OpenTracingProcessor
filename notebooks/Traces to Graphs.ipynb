{
 "cells": [
  {
   "cell_type": "code",
   "execution_count": 1,
   "metadata": {},
   "outputs": [],
   "source": [
    "from os import path\n",
    "import sys\n",
    "sys.path.append(path.abspath('/mnt/B6C8BAECC8BAAA4F/André/UC/Tese/MScThesis/Graphy'))\n",
    "\n",
    "import graphy"
   ]
  },
  {
   "cell_type": "code",
   "execution_count": 3,
   "metadata": {},
   "outputs": [],
   "source": [
    "from graphy.utils import time as my_time\n",
    "\n",
    "timestamp_1 = my_time.to_unix_time_millis(\"28/06/2018 14:20:00\")\n",
    "timestamp_2 = my_time.to_unix_time_millis(\"28/06/2018 14:40:00\")"
   ]
  },
  {
   "cell_type": "code",
   "execution_count": 4,
   "metadata": {},
   "outputs": [],
   "source": [
    "from graphy.utils import zipkin\n",
    "\n",
    "service_name = 'api_com'\n",
    "\n",
    "traces = zipkin.get_traces(lookback=timestamp_2 - timestamp_1, service_name=service_name, end_ts=timestamp_2)"
   ]
  },
  {
   "cell_type": "code",
   "execution_count": 5,
   "metadata": {},
   "outputs": [
    {
     "name": "stderr",
     "output_type": "stream",
     "text": [
      "IOPub data rate exceeded.\n",
      "The notebook server will temporarily stop sending output\n",
      "to the client in order to avoid crashing it.\n",
      "To change this limit, set the config variable\n",
      "`--NotebookApp.iopub_data_rate_limit`.\n",
      "\n",
      "Current values:\n",
      "NotebookApp.iopub_data_rate_limit=1000000.0 (bytes/sec)\n",
      "NotebookApp.rate_limit_window=3.0 (secs)\n",
      "\n"
     ]
    }
   ],
   "source": [
    "# service_name: set(ip)\n",
    "def get_service_name_ips(traces, service_names: set):\n",
    "    trace_ids = set()\n",
    "    result = dict()\n",
    "    spans_in_between = list()\n",
    "    spans = list()\n",
    "    for trace in traces:\n",
    "        for span in trace:\n",
    "            spans.append(span)\n",
    "\n",
    "            trace_ids.add(span.get('traceId', -1))\n",
    "            timestamp = span.get('timestamp', -1)\n",
    "            timestamp = int(timestamp / 1000)\n",
    "            if not (timestamp_1 <= timestamp <= timestamp_2):\n",
    "                # print(timestamp_1, timestamp, timestamp_2)\n",
    "                continue\n",
    "            spans_in_between.append(span)\n",
    "            local_endpoint = span.get('localEndpoint', {})\n",
    "            service_name = local_endpoint.get('serviceName', None)\n",
    "            if service_name in service_names:\n",
    "                service_name_ip = local_endpoint.get('ipv4')\n",
    "                if service_name not in result:\n",
    "                    result[service_name] = set()\n",
    "                result[service_name].add(service_name_ip)\n",
    "    return result, spans_in_between, trace_ids, spans\n",
    "\n",
    "\n",
    "var, spans_in_between, trace_ids, spans = get_service_name_ips(traces, {'api_com', 'cinder-api-cascaded'})\n",
    "\n",
    "print('number of trace ids:', len(trace_ids))\n",
    "print('number of spans:', len(spans))\n",
    "\n",
    "print(traces)"
   ]
  },
  {
   "cell_type": "code",
   "execution_count": null,
   "metadata": {},
   "outputs": [],
   "source": []
  }
 ],
 "metadata": {
  "kernelspec": {
   "display_name": "Python 3",
   "language": "python",
   "name": "python3"
  },
  "language_info": {
   "codemirror_mode": {
    "name": "ipython",
    "version": 3
   },
   "file_extension": ".py",
   "mimetype": "text/x-python",
   "name": "python",
   "nbconvert_exporter": "python",
   "pygments_lexer": "ipython3",
   "version": "3.6.7"
  }
 },
 "nbformat": 4,
 "nbformat_minor": 2
}
